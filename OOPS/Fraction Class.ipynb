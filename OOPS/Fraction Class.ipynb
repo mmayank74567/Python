{
 "cells": [
  {
   "cell_type": "code",
   "execution_count": 39,
   "metadata": {},
   "outputs": [],
   "source": [
    "class Fraction:\n",
    "    def __init__(self,top,bottom):\n",
    "        self.num = top\n",
    "        self.den = bottom\n",
    "        '''self.num and self.den in the constructor defines the fraction object to have an internal data object called \n",
    "        num, den as part of its  state'''\n",
    "    \n",
    "        "
   ]
  },
  {
   "cell_type": "code",
   "execution_count": 40,
   "metadata": {},
   "outputs": [],
   "source": [
    "myfraction = Fraction(3,5)"
   ]
  },
  {
   "cell_type": "code",
   "execution_count": 41,
   "metadata": {},
   "outputs": [
    {
     "name": "stdout",
     "output_type": "stream",
     "text": [
      "<__main__.Fraction object at 0x000001521DDA3860>\n"
     ]
    },
    {
     "data": {
      "text/plain": [
       "'print function required that object converts into a string so that a string can be written into the output'"
      ]
     },
     "execution_count": 41,
     "metadata": {},
     "output_type": "execute_result"
    }
   ],
   "source": [
    "print(myfraction)\n",
    "'''print function required that object converts into a string so that a string can be written into the output'''"
   ]
  },
  {
   "cell_type": "markdown",
   "metadata": {},
   "source": [
    "### using the show method"
   ]
  },
  {
   "cell_type": "code",
   "execution_count": 42,
   "metadata": {},
   "outputs": [],
   "source": [
    "class Fraction:\n",
    "    def __init__(self,top,bottom):\n",
    "        self.num = top\n",
    "        self.den = bottom\n",
    "        '''self.num and self.den in the constructor defines the fraction object to have an internal data object called \n",
    "        num, den as part of its  state'''\n",
    "    def show(self):\n",
    "        print(self.num,\"/\",self.den)"
   ]
  },
  {
   "cell_type": "code",
   "execution_count": 44,
   "metadata": {},
   "outputs": [
    {
     "name": "stdout",
     "output_type": "stream",
     "text": [
      "4 / 5\n"
     ]
    }
   ],
   "source": [
    "my_f = Fraction(4,5)\n",
    "\n",
    "my_f.show()"
   ]
  },
  {
   "cell_type": "markdown",
   "metadata": {},
   "source": [
    "### using __str__\n",
    "__str__ is a std method but may not work properly(used to convert object into string).\n",
    "We will write a better implementation and override the previous method"
   ]
  },
  {
   "cell_type": "code",
   "execution_count": 54,
   "metadata": {},
   "outputs": [],
   "source": [
    "class Fraction:\n",
    "    def __init__(self,top,bottom):\n",
    "        self.num = top\n",
    "        self.den = bottom\n",
    "        '''self.num and self.den in the constructor defines the fraction object to have an internal data object called \n",
    "        num, den as part of its  state'''\n",
    "    def show(self):\n",
    "        print(self.num,\"/\",self.den)\n",
    "    def __str__(self):\n",
    "        return str(self.num) + \"/\" + str(self.den)"
   ]
  },
  {
   "cell_type": "code",
   "execution_count": 57,
   "metadata": {},
   "outputs": [
    {
     "name": "stdout",
     "output_type": "stream",
     "text": [
      "4/5\n"
     ]
    }
   ],
   "source": [
    "my_f = Fraction(4,5)\n",
    "print(my_f)"
   ]
  },
  {
   "cell_type": "markdown",
   "metadata": {},
   "source": [
    "### Adding Fraction \n"
   ]
  },
  {
   "cell_type": "code",
   "execution_count": 59,
   "metadata": {},
   "outputs": [],
   "source": [
    "class Fraction:\n",
    "    def __init__(self,top,bottom):\n",
    "        self.num = top\n",
    "        self.den = bottom\n",
    "        '''self.num and self.den in the constructor defines the fraction object to have an internal data object called \n",
    "        num, den as part of its  state'''\n",
    "    def show(self):\n",
    "        print(self.num,\"/\",self.den)\n",
    "    def __str__(self):\n",
    "        return str(self.num) + \"/\" + str(self.den)\n",
    "    def __add__(self,other_fraction):\n",
    "        new_num = self.num*other_fraction.den + other_fraction.num*other_fraction.den\n",
    "        new_den = self.den*other_fraction.den\n",
    "        return Fraction(new_num,new_den)"
   ]
  },
  {
   "cell_type": "code",
   "execution_count": 61,
   "metadata": {},
   "outputs": [
    {
     "name": "stdout",
     "output_type": "stream",
     "text": [
      "14/10\n"
     ]
    }
   ],
   "source": [
    "f1= Fraction(4,5)\n",
    "f2 = Fraction(3,2)\n",
    "print(f1.__add__(f2))\n"
   ]
  },
  {
   "cell_type": "code",
   "execution_count": 66,
   "metadata": {},
   "outputs": [
    {
     "name": "stdout",
     "output_type": "stream",
     "text": [
      "14\n"
     ]
    }
   ],
   "source": [
    "'''We see that the output is not in its shortest format. Thus we create a function to print in lowest form'''\n",
    "'''Bets known way to find the gcd is through Euclid's Algorithm that states that the greatest\n",
    "common divisor of two integers m and n is n if n divides m evenly.'''\n",
    "\n",
    "def gcd(m,n):\n",
    "    while m%n!=0:\n",
    "        old_m = m\n",
    "        old_n = n\n",
    "        \n",
    "        m = old_n\n",
    "        n = old_m % old_n\n",
    "    return n\n",
    "print(gcd(14,42))"
   ]
  },
  {
   "cell_type": "code",
   "execution_count": 67,
   "metadata": {},
   "outputs": [],
   "source": [
    "class Fraction:\n",
    "    def __init__(self,top,bottom):\n",
    "        self.num = top\n",
    "        self.den = bottom\n",
    "        '''self.num and self.den in the constructor defines the fraction object to have an internal data object called \n",
    "        num, den as part of its  state'''\n",
    "    def show(self):\n",
    "        print(self.num,\"/\",self.den)\n",
    "    def __str__(self):\n",
    "        return str(self.num) + \"/\" + str(self.den)\n",
    "    def __add__(self,other_fraction):\n",
    "        new_num = self.num*other_fraction.den + other_fraction.num*other_fraction.den\n",
    "        new_den = self.den*other_fraction.den\n",
    "        common = gcd(new_num,new_den)\n",
    "        return Fraction(new_num//common,new_den//common)"
   ]
  },
  {
   "cell_type": "code",
   "execution_count": 68,
   "metadata": {},
   "outputs": [
    {
     "name": "stdout",
     "output_type": "stream",
     "text": [
      "7/5\n"
     ]
    }
   ],
   "source": [
    "f1= Fraction(4,5)\n",
    "f2 = Fraction(3,2)\n",
    "print(f1.__add__(f2))"
   ]
  },
  {
   "cell_type": "code",
   "execution_count": 81,
   "metadata": {},
   "outputs": [
    {
     "data": {
      "text/plain": [
       "True"
      ]
     },
     "execution_count": 81,
     "metadata": {},
     "output_type": "execute_result"
    }
   ],
   "source": [
    "'''Shallow equality true if they are both references to same object.'''\n",
    "f1 = Fraction(6,7)\n",
    "f2 = Fraction(6,7)\n",
    "f1 == f2"
   ]
  },
  {
   "cell_type": "code",
   "execution_count": 82,
   "metadata": {},
   "outputs": [
    {
     "data": {
      "text/plain": [
       "'Deep equaltiy true if the value is same of the two fractions. It is done below by overriding the __eq__ method'"
      ]
     },
     "execution_count": 82,
     "metadata": {},
     "output_type": "execute_result"
    }
   ],
   "source": [
    "'''Deep equaltiy true if the value is same of the two fractions. It is done below by overriding the __eq__ method'''"
   ]
  },
  {
   "cell_type": "markdown",
   "metadata": {},
   "source": [
    "### Defining an equal method to check if two fractions are same"
   ]
  },
  {
   "cell_type": "code",
   "execution_count": 78,
   "metadata": {},
   "outputs": [],
   "source": [
    "class Fraction:\n",
    "    def __init__(self,top,bottom):\n",
    "        self.num = top\n",
    "        self.den = bottom\n",
    "        '''self.num and self.den in the constructor defines the fraction object to have an internal data object called \n",
    "        num, den as part of its  state'''\n",
    "    def show(self):\n",
    "        print(self.num,\"/\",self.den)\n",
    "    def __str__(self):\n",
    "        return str(self.num) + \"/\" + str(self.den)\n",
    "    def __add__(self,other_fraction):\n",
    "        new_num = self.num*other_fraction.den + other_fraction.num*other_fraction.den\n",
    "        new_den = self.den*other_fraction.den\n",
    "        common = gcd(new_num,new_den)\n",
    "        return Fraction(new_num//common,new_den//common)\n",
    "    def __eq__(self,other):\n",
    "        n1 = self.num*other.den\n",
    "        n2 = self.den*other.num\n",
    "        return n1==n2"
   ]
  },
  {
   "cell_type": "code",
   "execution_count": 84,
   "metadata": {},
   "outputs": [
    {
     "data": {
      "text/plain": [
       "False"
      ]
     },
     "execution_count": 84,
     "metadata": {},
     "output_type": "execute_result"
    }
   ],
   "source": [
    "f1 = Fraction(4,7)\n",
    "f2 = Fraction(9,5)\n",
    "f1.__eq__(f2)"
   ]
  },
  {
   "cell_type": "code",
   "execution_count": 85,
   "metadata": {},
   "outputs": [
    {
     "data": {
      "text/plain": [
       "True"
      ]
     },
     "execution_count": 85,
     "metadata": {},
     "output_type": "execute_result"
    }
   ],
   "source": [
    "f1 = Fraction(4,7)\n",
    "f2 = Fraction(12,21)\n",
    "f1.__eq__(f2)"
   ]
  },
  {
   "cell_type": "code",
   "execution_count": null,
   "metadata": {},
   "outputs": [],
   "source": []
  }
 ],
 "metadata": {
  "kernelspec": {
   "display_name": "Python 3",
   "language": "python",
   "name": "python3"
  },
  "language_info": {
   "codemirror_mode": {
    "name": "ipython",
    "version": 3
   },
   "file_extension": ".py",
   "mimetype": "text/x-python",
   "name": "python",
   "nbconvert_exporter": "python",
   "pygments_lexer": "ipython3",
   "version": "3.6.5"
  }
 },
 "nbformat": 4,
 "nbformat_minor": 2
}
