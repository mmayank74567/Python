{
 "cells": [
  {
   "cell_type": "code",
   "execution_count": 1,
   "metadata": {},
   "outputs": [],
   "source": [
    "def printboard(l):\n",
    "    print(l[6],'  |  ',l[7],'  |  ',l[8])\n",
    "    \n",
    "    print('-----------------')\n",
    "    print(l[3],'  |  ',l[4],'  |  ',l[5])\n",
    "    \n",
    "    print('-----------------')\n",
    "    print(l[0],'  |  ',l[1],'  |  ',l[2])\n",
    "    "
   ]
  },
  {
   "cell_type": "code",
   "execution_count": 2,
   "metadata": {},
   "outputs": [],
   "source": [
    "def win(curr,l):\n",
    "    if((l[6] == l[7] == l[8] == curr) or (l[3] == l[4] == l[5] == curr) or \n",
    "       (l[0] == l[1] == l[2] == curr) or (l[6] == l[3] == l[0] == curr) or (\n",
    "       l[7] == l[4] == l[1] == curr) or (l[8] == l[5] == l[2] == curr)or\n",
    "       (l[6] == l[4] == l[2] == curr) or (l[8] == l[4] == l[0] == curr)):\n",
    "        \n",
    "        return True\n",
    "    else:\n",
    "        return False"
   ]
  },
  {
   "cell_type": "code",
   "execution_count": 16,
   "metadata": {},
   "outputs": [],
   "source": [
    "def draw(l):\n",
    "    if not('' in l):\n",
    "        return True\n",
    "    else:\n",
    "        return False"
   ]
  },
  {
   "cell_type": "code",
   "execution_count": 22,
   "metadata": {},
   "outputs": [],
   "source": [
    "def main():\n",
    "    l = ['','','','','','','','','']\n",
    "    i = 0\n",
    "    f = 1  #flag\n",
    "    print('WELCOME TO TIC TAC TOE')\n",
    "    p1 = str(input('Player 1 would be '))\n",
    "    p2 = str(input('Player 2 would be '))\n",
    "    print('Lets get started. Go player 1 ')\n",
    "    printboard(l)\n",
    "    while(i==0):\n",
    "        if(f==1):\n",
    "            pos = int(input('Player 1 input your mark '))\n",
    "            l[pos - 1] = p1\n",
    "            printboard(l)\n",
    "            if(win(p1,l)):\n",
    "                print('\\n')\n",
    "                print(' Yayyy',p1,' Wins!!')\n",
    "                i = 1\n",
    "                break\n",
    "            elif(draw(l)):\n",
    "                print('\\n')\n",
    "                print('Match has been drawn')\n",
    "                i = 1\n",
    "                break\n",
    "            else:\n",
    "                f = 0\n",
    "        else:\n",
    "            pos = int(input('Player 2 input your mark '))\n",
    "            l[pos - 1] = p2\n",
    "            printboard(l)\n",
    "            if(win(p2,l)):\n",
    "                print('\\n')\n",
    "                print(' Yayyy',p2,' Wins!!')\n",
    "                i = 1\n",
    "                break\n",
    "            elif(draw(l)):\n",
    "                print('\\n')\n",
    "                print('Match has been drawn')\n",
    "                i = 1\n",
    "                break\n",
    "            else:\n",
    "                f = 1\n",
    "    play = input(' You wanna play again? Press y or n ')\n",
    "    if ((play == 'y') or (play == 'Y')):\n",
    "        main()\n",
    "    else:\n",
    "        print('Goodbye')\n",
    "            \n",
    "                \n",
    "            "
   ]
  },
  {
   "cell_type": "code",
   "execution_count": 24,
   "metadata": {},
   "outputs": [
    {
     "name": "stdout",
     "output_type": "stream",
     "text": [
      "WELCOME TO TIC TAC TOE\n",
      "Player 1 would be X\n",
      "Player 2 would be O\n",
      "Lets get started. Go player 1 \n",
      "   |      |   \n",
      "-----------------\n",
      "   |      |   \n",
      "-----------------\n",
      "   |      |   \n",
      "Player 1 input your mark 5\n",
      "   |      |   \n",
      "-----------------\n",
      "   |   X   |   \n",
      "-----------------\n",
      "   |      |   \n",
      "Player 2 input your mark 1\n",
      "   |      |   \n",
      "-----------------\n",
      "   |   X   |   \n",
      "-----------------\n",
      "O   |      |   \n",
      "Player 1 input your mark 9\n",
      "   |      |   X\n",
      "-----------------\n",
      "   |   X   |   \n",
      "-----------------\n",
      "O   |      |   \n",
      "Player 2 input your mark 8\n",
      "   |   O   |   X\n",
      "-----------------\n",
      "   |   X   |   \n",
      "-----------------\n",
      "O   |      |   \n",
      "Player 1 input your mark 2\n",
      "   |   O   |   X\n",
      "-----------------\n",
      "   |   X   |   \n",
      "-----------------\n",
      "O   |   X   |   \n",
      "Player 2 input your mark 6\n",
      "   |   O   |   X\n",
      "-----------------\n",
      "   |   X   |   O\n",
      "-----------------\n",
      "O   |   X   |   \n",
      "Player 1 input your mark 3\n",
      "   |   O   |   X\n",
      "-----------------\n",
      "   |   X   |   O\n",
      "-----------------\n",
      "O   |   X   |   X\n",
      "Player 2 input your mark 7\n",
      "O   |   O   |   X\n",
      "-----------------\n",
      "   |   X   |   O\n",
      "-----------------\n",
      "O   |   X   |   X\n",
      "Player 1 input your mark 4\n",
      "O   |   O   |   X\n",
      "-----------------\n",
      "X   |   X   |   O\n",
      "-----------------\n",
      "O   |   X   |   X\n",
      "\n",
      "\n",
      "Match has been drawn\n",
      " You wanna play again? Press y or n N\n",
      "Goodbye\n"
     ]
    }
   ],
   "source": [
    "main()"
   ]
  },
  {
   "cell_type": "code",
   "execution_count": 25,
   "metadata": {},
   "outputs": [
    {
     "name": "stdout",
     "output_type": "stream",
     "text": [
      "Done!\n"
     ]
    }
   ],
   "source": [
    "print('Done!')\n"
   ]
  },
  {
   "cell_type": "code",
   "execution_count": null,
   "metadata": {},
   "outputs": [],
   "source": []
  }
 ],
 "metadata": {
  "kernelspec": {
   "display_name": "Python 3",
   "language": "python",
   "name": "python3"
  },
  "language_info": {
   "codemirror_mode": {
    "name": "ipython",
    "version": 3
   },
   "file_extension": ".py",
   "mimetype": "text/x-python",
   "name": "python",
   "nbconvert_exporter": "python",
   "pygments_lexer": "ipython3",
   "version": "3.6.5"
  }
 },
 "nbformat": 4,
 "nbformat_minor": 2
}
